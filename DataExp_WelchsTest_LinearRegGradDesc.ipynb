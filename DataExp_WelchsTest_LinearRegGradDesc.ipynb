{
 "cells": [
  {
   "cell_type": "markdown",
   "metadata": {},
   "source": [
    "# T-Teste"
   ]
  },
  {
   "cell_type": "code",
   "execution_count": 24,
   "metadata": {},
   "outputs": [
    {
     "name": "stdout",
     "output_type": "stream",
     "text": [
      "0.7640725938093238\n"
     ]
    },
    {
     "data": {
      "text/plain": [
       "-0.3049431865996848"
      ]
     },
     "execution_count": 24,
     "metadata": {},
     "output_type": "execute_result"
    }
   ],
   "source": [
    "import scipy.stats\n",
    "import pandas as pd\n",
    "import numpy as np\n",
    "a = np.random.random(10)\n",
    "b = np.random.random(15)\n",
    "#TESTE T\n",
    "#Retorna valores para testes two-tailed. No caso de one-tailed p = p/2\n",
    "t_stat, p_value = scipy.stats.ttest_ind(a,b, equal_var = False)\n",
    "print(p_value)\n"
   ]
  },
  {
   "cell_type": "code",
   "execution_count": 50,
   "metadata": {},
   "outputs": [
    {
     "name": "stdout",
     "output_type": "stream",
     "text": [
      "False Ttest_indResult(statistic=-9.935702226242094, pvalue=3.810274225888738e-23)\n"
     ]
    },
    {
     "data": {
      "text/plain": [
       "0.1853890545144807"
      ]
     },
     "execution_count": 50,
     "metadata": {},
     "output_type": "execute_result"
    }
   ],
   "source": [
    "#T-test comparing  right and left handed baseball players career batting\n",
    "df = pd.read_csv('baseball_stats.csv')\n",
    "df_right = df[df['handedness']=='R']\n",
    "df_left = df[df['handedness']=='L']\n",
    "results = scipy.stats.ttest_ind(df_right['avg'], df_left['avg'], equal_var = False)\n",
    "if results[1] < 0.05:\n",
    "    null_hip = False\n",
    "else:\n",
    "    null_hip = True\n",
    "print(null_hip, results)\n",
    "\n",
    "#De acordo com os resultados, a média dos jogadores destros é significativamente menor que a média dos jogadores canhotos\n"
   ]
  },
  {
   "cell_type": "code",
   "execution_count": 53,
   "metadata": {},
   "outputs": [
    {
     "name": "stdout",
     "output_type": "stream",
     "text": [
      "0.8317142724990845 0.0\n"
     ]
    }
   ],
   "source": [
    "#Teste Shapiro-Wilk \n",
    "w, p = scipy.stats.shapiro(df_right['avg'])\n",
    "#estatística w\n",
    "#p-valor\n",
    "print(w, p)"
   ]
  },
  {
   "cell_type": "code",
   "execution_count": null,
   "metadata": {},
   "outputs": [],
   "source": [
    "#Non-parametric test - Mann-Whitney u cox test7\n",
    "#O teste apenas indica se as amostras pertencem a mesma população. Por isso, é indicado adicionar ao resultado outras medidas como médias, dps, etc\n",
    "u, p = scipy.stats.mannwhitneyu()\n",
    "#estatística u\n",
    "#p-valor one-tailed test\n"
   ]
  },
  {
   "cell_type": "code",
   "execution_count": null,
   "metadata": {},
   "outputs": [],
   "source": [
    "  \n",
    "    m = len(values)\n",
    "    for i in range(num_iterations):\n",
    "        cost = compute_cost(features, values, theta)\n",
    "        cost_history.append(cost)\n",
    "        predict = numpy.dot(features, theta)\n",
    "        theta = theta - numpy.dot((values - predict), features)*alpha/m)\n"
   ]
  }
 ],
 "metadata": {
  "kernelspec": {
   "display_name": "Python 3",
   "language": "python",
   "name": "python3"
  },
  "language_info": {
   "codemirror_mode": {
    "name": "ipython",
    "version": 3
   },
   "file_extension": ".py",
   "mimetype": "text/x-python",
   "name": "python",
   "nbconvert_exporter": "python",
   "pygments_lexer": "ipython3",
   "version": "3.8.5"
  }
 },
 "nbformat": 4,
 "nbformat_minor": 4
}
